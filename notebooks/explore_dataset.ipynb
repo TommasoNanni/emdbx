{
 "cells": [
  {
   "cell_type": "code",
   "execution_count": 1,
   "id": "8067bff0",
   "metadata": {},
   "outputs": [],
   "source": [
    "%load_ext autoreload\n",
    "%autoreload 2\n",
    "\n",
    "import os\n",
    "os.chdir(\"../..\")"
   ]
  },
  {
   "cell_type": "code",
   "execution_count": 2,
   "id": "ad5ce00f",
   "metadata": {},
   "outputs": [
    {
     "name": "stdout",
     "output_type": "stream",
     "text": [
      "DATA KEYS: dict_keys(['gender', 'name', 'emdb1', 'emdb2', 'n_frames', 'good_frames_mask', 'camera', 'smpl', 'kp2d', 'bboxes'])\n"
     ]
    }
   ],
   "source": [
    "from emdb.configuration import (\n",
    "    EMDB_ROOT,\n",
    "    SMPL_SIDE_COLOR,\n",
    "    SMPL_SIDE_INDEX,\n",
    "    SMPL_SKELETON,\n",
    "    SMPLX_MODELS,\n",
    ")\n",
    "import glob\n",
    "import pickle as pkl\n",
    "\n",
    "\n",
    "sequence_root = glob.glob(os.path.join(EMDB_ROOT, \"P0\", \"00\" + \"*\"))[0]\n",
    "data_file = glob.glob(os.path.join(sequence_root, \"*_data.pkl\"))[0]\n",
    "with open(data_file, \"rb\") as f:\n",
    "    data = pkl.load(f)\n",
    "    print(\"DATA KEYS:\", data.keys())"
   ]
  },
  {
   "cell_type": "code",
   "execution_count": 3,
   "id": "f2e9d8db",
   "metadata": {},
   "outputs": [
    {
     "name": "stdout",
     "output_type": "stream",
     "text": [
      "Gender male\n"
     ]
    }
   ],
   "source": [
    "print(\"Gender\", data[\"gender\"])"
   ]
  },
  {
   "cell_type": "code",
   "execution_count": 4,
   "id": "52e8152c",
   "metadata": {},
   "outputs": [
    {
     "name": "stdout",
     "output_type": "stream",
     "text": [
      "Name P0_00_mvs_a\n"
     ]
    }
   ],
   "source": [
    "print(\"Name\", data[\"name\"])"
   ]
  },
  {
   "cell_type": "code",
   "execution_count": 5,
   "id": "08614a44",
   "metadata": {},
   "outputs": [
    {
     "name": "stdout",
     "output_type": "stream",
     "text": [
      "EMDB1 False\n"
     ]
    }
   ],
   "source": [
    "print(\"EMDB1\", data[\"emdb1\"])"
   ]
  },
  {
   "cell_type": "code",
   "execution_count": 6,
   "id": "bd758c37",
   "metadata": {},
   "outputs": [
    {
     "name": "stdout",
     "output_type": "stream",
     "text": [
      "EMDB2 False\n"
     ]
    }
   ],
   "source": [
    "print(\"EMDB2\", data[\"emdb2\"])"
   ]
  },
  {
   "cell_type": "code",
   "execution_count": 7,
   "id": "5720188c",
   "metadata": {},
   "outputs": [
    {
     "name": "stdout",
     "output_type": "stream",
     "text": [
      "N frames 381\n"
     ]
    }
   ],
   "source": [
    "print(\"N frames\", data[\"n_frames\"])"
   ]
  },
  {
   "cell_type": "code",
   "execution_count": 8,
   "id": "c32814a1",
   "metadata": {},
   "outputs": [
    {
     "name": "stdout",
     "output_type": "stream",
     "text": [
      "Good frames mask (381,)\n"
     ]
    }
   ],
   "source": [
    "print(\"Good frames mask\", data[\"good_frames_mask\"].shape)"
   ]
  },
  {
   "cell_type": "code",
   "execution_count": 9,
   "id": "6bf2b902",
   "metadata": {},
   "outputs": [
    {
     "name": "stdout",
     "output_type": "stream",
     "text": [
      "Camera keys dict_keys(['intrinsics', 'extrinsics', 'width', 'height'])\n"
     ]
    }
   ],
   "source": [
    "print(\"Camera keys\", data[\"camera\"].keys())"
   ]
  },
  {
   "cell_type": "code",
   "execution_count": 10,
   "id": "20d56c44",
   "metadata": {},
   "outputs": [
    {
     "name": "stdout",
     "output_type": "stream",
     "text": [
      "Camera intrinsics shape (3, 3)\n",
      "Camera extrinsics shape (381, 4, 4)\n",
      "Camera width 720\n",
      "Camera height 960\n"
     ]
    }
   ],
   "source": [
    "print(\"Camera intrinsics shape\", data[\"camera\"][\"intrinsics\"].shape)\n",
    "print(\"Camera extrinsics shape\", data[\"camera\"][\"extrinsics\"].shape)\n",
    "print(\"Camera width\", data[\"camera\"][\"width\"])\n",
    "print(\"Camera height\", data[\"camera\"][\"height\"])"
   ]
  },
  {
   "cell_type": "code",
   "execution_count": 11,
   "id": "3b224cb5",
   "metadata": {},
   "outputs": [
    {
     "name": "stdout",
     "output_type": "stream",
     "text": [
      "dict_keys(['poses_root', 'poses_body', 'trans', 'betas'])\n"
     ]
    }
   ],
   "source": [
    "print(data[\"smpl\"].keys())"
   ]
  },
  {
   "cell_type": "code",
   "execution_count": 12,
   "id": "dfc08392",
   "metadata": {},
   "outputs": [
    {
     "name": "stdout",
     "output_type": "stream",
     "text": [
      "Poses root shape (381, 3)\n",
      "Poses body shape (381, 69)\n",
      "Trans shape (381, 3)\n",
      "Betas shape (10,)\n"
     ]
    }
   ],
   "source": [
    "print(\"Poses root shape\", data[\"smpl\"][\"poses_root\"].shape)\n",
    "print(\"Poses body shape\", data[\"smpl\"][\"poses_body\"].shape)\n",
    "print(\"Trans shape\", data[\"smpl\"][\"trans\"].shape)\n",
    "print(\"Betas shape\", data[\"smpl\"][\"betas\"].shape)"
   ]
  },
  {
   "cell_type": "code",
   "execution_count": 14,
   "id": "456d6bf3",
   "metadata": {},
   "outputs": [
    {
     "name": "stdout",
     "output_type": "stream",
     "text": [
      "KP2D shape (381, 24, 2)\n"
     ]
    }
   ],
   "source": [
    "print(\"KP2D shape\", data[\"kp2d\"].shape)"
   ]
  },
  {
   "cell_type": "code",
   "execution_count": 15,
   "id": "422e6c69",
   "metadata": {},
   "outputs": [
    {
     "name": "stdout",
     "output_type": "stream",
     "text": [
      "BBoxes keys dict_keys(['bboxes', 'invalid_idxs'])\n"
     ]
    }
   ],
   "source": [
    "print(\"BBoxes keys\", data[\"bboxes\"].keys())"
   ]
  },
  {
   "cell_type": "code",
   "execution_count": 18,
   "id": "fd30cc65",
   "metadata": {},
   "outputs": [
    {
     "name": "stdout",
     "output_type": "stream",
     "text": [
      "BBoxes bboxes shape (381, 4)\n",
      "BBoxes invalid idx shape (0,)\n"
     ]
    }
   ],
   "source": [
    "print(\"BBoxes bboxes shape\", data[\"bboxes\"][\"bboxes\"].shape)\n",
    "print(\"BBoxes invalid idx shape\", data[\"bboxes\"][\"invalid_idxs\"].shape)"
   ]
  }
 ],
 "metadata": {
  "kernelspec": {
   "display_name": "sem_project",
   "language": "python",
   "name": "python3"
  },
  "language_info": {
   "codemirror_mode": {
    "name": "ipython",
    "version": 3
   },
   "file_extension": ".py",
   "mimetype": "text/x-python",
   "name": "python",
   "nbconvert_exporter": "python",
   "pygments_lexer": "ipython3",
   "version": "3.10.18"
  }
 },
 "nbformat": 4,
 "nbformat_minor": 5
}
